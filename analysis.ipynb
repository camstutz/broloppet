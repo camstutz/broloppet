{
 "cells": [
  {
   "cell_type": "markdown",
   "metadata": {},
   "source": [
    "### Training Analysis"
   ]
  },
  {
   "cell_type": "code",
   "execution_count": null,
   "metadata": {},
   "outputs": [],
   "source": [
    "import pandas as pd\n",
    "import matplotlib.pyplot as plt\n",
    "\n",
    "halfmarathon_distance = 21.0975"
   ]
  },
  {
   "cell_type": "code",
   "execution_count": null,
   "metadata": {},
   "outputs": [],
   "source": [
    "training_data = pd.read_csv('running.csv')\n",
    "training_data['Date'] = pd.to_datetime(training_data['Date'], format='%d-%m-%y')\n",
    "training_data['Time'] = pd.to_timedelta(training_data['Time']+':00')\n",
    "training_data['Duration'] = pd.to_timedelta(training_data['Duration'])\n",
    "training_data['duration_s'] = training_data['Duration'].apply(lambda x: x.total_seconds())\n",
    "\n",
    "print(training_data[['Date', 'Time', 'Distance', 'Duration']])"
   ]
  },
  {
   "cell_type": "code",
   "execution_count": null,
   "metadata": {},
   "outputs": [],
   "source": [
    "training_data['speed'] = training_data['Distance']/(training_data['duration_s']/3600)\n",
    "training_data['finish_time'] = (halfmarathon_distance * 1/training_data['speed']*3600).apply(lambda x: pd.Timedelta(x, unit='s'))\n",
    "print(training_data[['speed', 'finish_time']])"
   ]
  },
  {
   "cell_type": "code",
   "execution_count": null,
   "metadata": {},
   "outputs": [],
   "source": [
    "training_data.plot()"
   ]
  }
 ],
 "metadata": {
  "kernelspec": {
   "display_name": "Python 3",
   "language": "python",
   "name": "python3"
  },
  "language_info": {
   "codemirror_mode": {
    "name": "ipython",
    "version": 3
   },
   "file_extension": ".py",
   "mimetype": "text/x-python",
   "name": "python",
   "nbconvert_exporter": "python",
   "pygments_lexer": "ipython3",
   "version": "3.10.12"
  }
 },
 "nbformat": 4,
 "nbformat_minor": 2
}
